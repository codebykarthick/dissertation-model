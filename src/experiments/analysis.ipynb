{
 "cells": [
  {
   "cell_type": "markdown",
   "id": "7d7cc03f",
   "metadata": {},
   "source": [
    "# Analysis\n",
    "This notebook consists of all the analysis performed on the resulting json files generated during evaluation, to understand the best course of action."
   ]
  },
  {
   "cell_type": "code",
   "execution_count": 1,
   "id": "43dc3ce9",
   "metadata": {},
   "outputs": [],
   "source": [
    "# Import section\n",
    "from collections import defaultdict\n",
    "import json\n",
    "import os\n",
    "\n",
    "import pandas as pd"
   ]
  },
  {
   "cell_type": "code",
   "execution_count": 2,
   "id": "73c2137e",
   "metadata": {},
   "outputs": [],
   "source": [
    "# Global Constants\n",
    "PATH_TO_RESULTS = \"../results\""
   ]
  },
  {
   "cell_type": "code",
   "execution_count": 3,
   "id": "b4300318",
   "metadata": {},
   "outputs": [],
   "source": [
    "def parse_fold_information(label: str, model_name: str) -> pd.DataFrame:\n",
    "    # Get the full folder for the label\n",
    "    folder = os.path.join(PATH_TO_RESULTS, label)\n",
    "    # Filter files with the model name\n",
    "    files = [file for file in os.listdir(folder) if model_name in file]\n",
    "\n",
    "    metrics = defaultdict(list)\n",
    "\n",
    "    for file in files:\n",
    "        full_path = os.path.join(folder, file)\n",
    "        with open(full_path, 'r') as f:\n",
    "            data = json.load(f)\n",
    "            for key, value in data.items():\n",
    "                metrics[key].append(value)\n",
    "    \n",
    "    df = pd.DataFrame(metrics)\n",
    "\n",
    "    return df\n",
    "\n",
    "def aggregate(model: str, df: pd.DataFrame, \n",
    "              metrics: list[str] = [\"f1_score\", \"accuracy\", \"precision\", \"recall\", \"val_loss\"]):\n",
    "    print(model)\n",
    "    summary = df[metrics].agg(['mean', 'std']).transpose()\n",
    "    print(summary)\n",
    "    print(\"\")"
   ]
  },
  {
   "cell_type": "markdown",
   "id": "7b1f539a",
   "metadata": {},
   "source": [
    "## Run 1: Cross-Validation — Classification on Data without any modifications\n",
    "MobileNetV3, EfficientNet-B0, ShuffleNet and custom CNNs where run directly on the data without any other additional mechanisms to compare raw performance on a 10-fold cross validation."
   ]
  },
  {
   "cell_type": "code",
   "execution_count": 4,
   "id": "b521d314",
   "metadata": {},
   "outputs": [],
   "source": [
    "# Local Constants\n",
    "LABEL = \"cross_val_baseline\""
   ]
  },
  {
   "cell_type": "code",
   "execution_count": 5,
   "id": "93eaa9c2",
   "metadata": {},
   "outputs": [],
   "source": [
    "cnn = parse_fold_information(LABEL, \"cnn\")\n",
    "efficientnet = parse_fold_information(LABEL, \"efficientnet\")\n",
    "mobilenet = parse_fold_information(LABEL, \"mobilenet\")\n",
    "shufflenet = parse_fold_information(LABEL, \"shufflenet\")"
   ]
  },
  {
   "cell_type": "code",
   "execution_count": 6,
   "id": "e989f43e",
   "metadata": {},
   "outputs": [
    {
     "name": "stdout",
     "output_type": "stream",
     "text": [
      "CNN\n",
      "               mean       std\n",
      "f1_score   0.329365  0.048161\n",
      "accuracy   0.409068  0.324335\n",
      "precision  0.403366  0.353520\n",
      "recall     0.751852  0.377533\n",
      "val_loss   0.702145  0.051089\n",
      "\n",
      "EfficientNet\n",
      "               mean       std\n",
      "f1_score   0.475545  0.160060\n",
      "accuracy   0.669860  0.281165\n",
      "precision  0.536510  0.326948\n",
      "recall     0.651852  0.272392\n",
      "val_loss   0.649492  0.059587\n",
      "\n",
      "MobileNet\n",
      "               mean       std\n",
      "f1_score   0.420039  0.111858\n",
      "accuracy   0.619157  0.285041\n",
      "precision  0.524625  0.368649\n",
      "recall     0.607407  0.279274\n",
      "val_loss   0.636350  0.079073\n",
      "\n",
      "ShuffleNet\n",
      "               mean       std\n",
      "f1_score   0.526515  0.117469\n",
      "accuracy   0.792976  0.189495\n",
      "precision  0.684456  0.285278\n",
      "recall     0.551852  0.267245\n",
      "val_loss   0.547775  0.075891\n",
      "\n"
     ]
    }
   ],
   "source": [
    "aggregate(\"CNN\", cnn)\n",
    "aggregate(\"EfficientNet\", efficientnet)\n",
    "aggregate(\"MobileNet\", mobilenet)\n",
    "aggregate(\"ShuffleNet\", shufflenet)"
   ]
  },
  {
   "cell_type": "markdown",
   "id": "c0c8dafb",
   "metadata": {},
   "source": [
    "## Run 2: Cross-Validation — Classification with RoI cropping\n",
    "See if yolo has a positive impact on the classification pipeline."
   ]
  },
  {
   "cell_type": "code",
   "execution_count": 7,
   "id": "c70dbf07",
   "metadata": {},
   "outputs": [],
   "source": [
    "LABEL = \"cross_val_roi\""
   ]
  },
  {
   "cell_type": "code",
   "execution_count": 8,
   "id": "9d423a04",
   "metadata": {},
   "outputs": [
    {
     "name": "stdout",
     "output_type": "stream",
     "text": [
      "CNN\n",
      "               mean       std\n",
      "f1_score   0.298283  0.057064\n",
      "accuracy   0.381281  0.285873\n",
      "precision  0.306359  0.306551\n",
      "recall     0.742857  0.387162\n",
      "val_loss   0.707397  0.022903\n",
      "\n",
      "EfficientNet\n",
      "               mean       std\n",
      "f1_score   0.524742  0.151793\n",
      "accuracy   0.836322  0.103042\n",
      "precision  0.770476  0.245873\n",
      "recall     0.490000  0.218892\n",
      "val_loss   0.566428  0.052737\n",
      "\n",
      "MobileNet\n",
      "               mean       std\n",
      "f1_score   0.417692  0.109407\n",
      "accuracy   0.507407  0.238925\n",
      "precision  0.291300  0.109114\n",
      "recall     0.851852  0.165085\n",
      "val_loss   0.691758  0.026871\n",
      "\n",
      "ShuffleNet\n",
      "               mean       std\n",
      "f1_score   0.673160  0.145517\n",
      "accuracy   0.888342  0.053282\n",
      "precision  0.786395  0.202692\n",
      "recall     0.614286  0.165392\n",
      "val_loss   0.523567  0.053942\n",
      "\n"
     ]
    }
   ],
   "source": [
    "cnn = parse_fold_information(LABEL, \"cnn\")\n",
    "efficientnet = parse_fold_information(LABEL, \"efficientnet\")\n",
    "mobilenet = parse_fold_information(LABEL, \"mobilenet\")\n",
    "shufflenet = parse_fold_information(LABEL, \"shufflenet\")\n",
    "\n",
    "aggregate(\"CNN\", cnn)\n",
    "aggregate(\"EfficientNet\", efficientnet)\n",
    "aggregate(\"MobileNet\", mobilenet)\n",
    "aggregate(\"ShuffleNet\", shufflenet)"
   ]
  },
  {
   "cell_type": "markdown",
   "id": "1b38a60f",
   "metadata": {},
   "source": [
    "## Run 3: Cross-Validation — Classification with Weighted Loss\n",
    "Measure performance with weighted loss for class imbalanace."
   ]
  },
  {
   "cell_type": "code",
   "execution_count": 9,
   "id": "631b0a1c",
   "metadata": {},
   "outputs": [],
   "source": [
    "LABEL = \"cross_val_weighted_loss\""
   ]
  },
  {
   "cell_type": "code",
   "execution_count": 10,
   "id": "75c5d250",
   "metadata": {},
   "outputs": [
    {
     "name": "stdout",
     "output_type": "stream",
     "text": [
      "CNN\n",
      "               mean       std\n",
      "f1_score   0.422186  0.078554\n",
      "accuracy   0.642184  0.280393\n",
      "precision  0.503095  0.302067\n",
      "recall     0.596667  0.300801\n",
      "val_loss   1.098361  0.055903\n",
      "\n",
      "EfficientNet\n",
      "               mean       std\n",
      "f1_score   0.447486  0.124734\n",
      "accuracy   0.593333  0.172148\n",
      "precision  0.358606  0.235301\n",
      "recall     0.800000  0.205480\n",
      "val_loss   1.073502  0.080908\n",
      "\n",
      "MobileNet\n",
      "               mean       std\n",
      "f1_score   0.406179  0.090501\n",
      "accuracy   0.525977  0.255615\n",
      "precision  0.304930  0.120095\n",
      "recall     0.776667  0.226650\n",
      "val_loss   1.089747  0.086940\n",
      "\n",
      "ShuffleNet\n",
      "               mean       std\n",
      "f1_score   0.483451  0.156489\n",
      "accuracy   0.715964  0.235402\n",
      "precision  0.460824  0.199726\n",
      "recall     0.600000  0.204803\n",
      "val_loss   1.053080  0.099752\n",
      "\n"
     ]
    }
   ],
   "source": [
    "cnn = parse_fold_information(LABEL, \"cnn\")\n",
    "efficientnet = parse_fold_information(LABEL, \"efficientnet\")\n",
    "mobilenet = parse_fold_information(LABEL, \"mobilenet\")\n",
    "shufflenet = parse_fold_information(LABEL, \"shufflenet\")\n",
    "\n",
    "aggregate(\"CNN\", cnn)\n",
    "aggregate(\"EfficientNet\", efficientnet)\n",
    "aggregate(\"MobileNet\", mobilenet)\n",
    "aggregate(\"ShuffleNet\", shufflenet)"
   ]
  },
  {
   "cell_type": "markdown",
   "id": "6e6a5bb7",
   "metadata": {},
   "source": [
    "## Run 3: Cross-Validation — Classification with Weighted Sampling\n",
    "Measure performance with weighted loss for class imbalanace."
   ]
  },
  {
   "cell_type": "code",
   "execution_count": 11,
   "id": "3803f32d",
   "metadata": {},
   "outputs": [],
   "source": [
    "LABEL = \"cross_val_weighted_sampling\""
   ]
  },
  {
   "cell_type": "code",
   "execution_count": 12,
   "id": "02034a82",
   "metadata": {},
   "outputs": [
    {
     "name": "stdout",
     "output_type": "stream",
     "text": [
      "CNN\n",
      "               mean       std\n",
      "f1_score   0.396500  0.085706\n",
      "accuracy   0.655057  0.277727\n",
      "precision  0.603095  0.372025\n",
      "recall     0.540000  0.336210\n",
      "val_loss   0.666499  0.068875\n",
      "\n",
      "EfficientNet\n",
      "               mean       std\n",
      "f1_score   0.473687  0.115679\n",
      "accuracy   0.749540  0.123704\n",
      "precision  0.468855  0.220675\n",
      "recall     0.563333  0.160593\n",
      "val_loss   0.642296  0.045469\n",
      "\n",
      "MobileNet\n",
      "               mean       std\n",
      "f1_score   0.438660  0.157196\n",
      "accuracy   0.755977  0.137303\n",
      "precision  0.512689  0.284399\n",
      "recall     0.490000  0.217193\n",
      "val_loss   0.597751  0.077192\n",
      "\n",
      "ShuffleNet\n",
      "               mean       std\n",
      "f1_score   0.501779  0.149693\n",
      "accuracy   0.688161  0.280124\n",
      "precision  0.489272  0.201883\n",
      "recall     0.676667  0.254369\n",
      "val_loss   0.606920  0.087218\n",
      "\n"
     ]
    }
   ],
   "source": [
    "cnn = parse_fold_information(LABEL, \"cnn\")\n",
    "efficientnet = parse_fold_information(LABEL, \"efficientnet\")\n",
    "mobilenet = parse_fold_information(LABEL, \"mobilenet\")\n",
    "shufflenet = parse_fold_information(LABEL, \"shufflenet\")\n",
    "\n",
    "aggregate(\"CNN\", cnn)\n",
    "aggregate(\"EfficientNet\", efficientnet)\n",
    "aggregate(\"MobileNet\", mobilenet)\n",
    "aggregate(\"ShuffleNet\", shufflenet)"
   ]
  },
  {
   "cell_type": "markdown",
   "id": "c19f6a55",
   "metadata": {},
   "source": [
    "## Run 4: Cross Validation — RoI with Weighted Loss\n",
    "Measure performance with both RoI and Weighted loss."
   ]
  },
  {
   "cell_type": "code",
   "execution_count": 13,
   "id": "cf90b73a",
   "metadata": {},
   "outputs": [],
   "source": [
    "LABEL = \"cross_val_roi_weighted_loss\""
   ]
  },
  {
   "cell_type": "code",
   "execution_count": 14,
   "id": "b4e89a05",
   "metadata": {},
   "outputs": [
    {
     "name": "stdout",
     "output_type": "stream",
     "text": [
      "CNN\n",
      "               mean       std\n",
      "f1_score   0.443133  0.106624\n",
      "accuracy   0.664713  0.229756\n",
      "precision  0.403320  0.167438\n",
      "recall     0.633333  0.266667\n",
      "val_loss   1.119618  0.049638\n",
      "\n",
      "EfficientNet\n",
      "               mean       std\n",
      "f1_score   0.537562  0.150277\n",
      "accuracy   0.693448  0.164913\n",
      "precision  0.407853  0.158687\n",
      "recall     0.863333  0.173169\n",
      "val_loss   1.030399  0.109383\n",
      "\n",
      "MobileNet\n",
      "               mean       std\n",
      "f1_score   0.336924  0.039516\n",
      "accuracy   0.366794  0.210330\n",
      "precision  0.295792  0.265294\n",
      "recall     0.855556  0.296273\n",
      "val_loss   1.146482  0.061040\n",
      "\n",
      "ShuffleNet\n",
      "               mean       std\n",
      "f1_score   0.607054  0.135646\n",
      "accuracy   0.789540  0.167665\n",
      "precision  0.585393  0.227943\n",
      "recall     0.726667  0.155397\n",
      "val_loss   0.980385  0.084076\n",
      "\n"
     ]
    }
   ],
   "source": [
    "cnn = parse_fold_information(LABEL, \"cnn\")\n",
    "efficientnet = parse_fold_information(LABEL, \"efficientnet\")\n",
    "mobilenet = parse_fold_information(LABEL, \"mobilenet\")\n",
    "shufflenet = parse_fold_information(LABEL, \"shufflenet\")\n",
    "\n",
    "aggregate(\"CNN\", cnn)\n",
    "aggregate(\"EfficientNet\", efficientnet)\n",
    "aggregate(\"MobileNet\", mobilenet)\n",
    "aggregate(\"ShuffleNet\", shufflenet)"
   ]
  },
  {
   "cell_type": "markdown",
   "id": "be79413a",
   "metadata": {},
   "source": [
    "## Run 4: Cross Validation — RoI with Weighted Sampling\n",
    "Measure performance with both RoI and Weighted Sampling."
   ]
  },
  {
   "cell_type": "code",
   "execution_count": 15,
   "id": "cdadfee3",
   "metadata": {},
   "outputs": [],
   "source": [
    "LABEL = \"cross_val_roi_weighted_sampling\""
   ]
  },
  {
   "cell_type": "code",
   "execution_count": 16,
   "id": "e3f6213a",
   "metadata": {},
   "outputs": [
    {
     "name": "stdout",
     "output_type": "stream",
     "text": [
      "CNN\n",
      "               mean       std\n",
      "f1_score   0.485370  0.141696\n",
      "accuracy   0.629080  0.284843\n",
      "precision  0.503924  0.322599\n",
      "recall     0.716667  0.245578\n",
      "val_loss   0.685210  0.063355\n",
      "\n",
      "EfficientNet\n",
      "               mean       std\n",
      "f1_score   0.605137  0.142116\n",
      "accuracy   0.833678  0.074314\n",
      "precision  0.585476  0.151163\n",
      "recall     0.686667  0.206200\n",
      "val_loss   0.586910  0.052880\n",
      "\n",
      "MobileNet\n",
      "               mean       std\n",
      "f1_score   0.366622  0.063820\n",
      "accuracy   0.494253  0.231639\n",
      "precision  0.331217  0.255871\n",
      "recall     0.770370  0.316862\n",
      "val_loss   0.697311  0.039344\n",
      "\n",
      "ShuffleNet\n",
      "               mean       std\n",
      "f1_score   0.647641  0.072260\n",
      "accuracy   0.868199  0.038317\n",
      "precision  0.694048  0.161762\n",
      "recall     0.644444  0.148137\n",
      "val_loss   0.575955  0.056104\n",
      "\n"
     ]
    }
   ],
   "source": [
    "cnn = parse_fold_information(LABEL, \"cnn\")\n",
    "efficientnet = parse_fold_information(LABEL, \"efficientnet\")\n",
    "mobilenet = parse_fold_information(LABEL, \"mobilenet\")\n",
    "shufflenet = parse_fold_information(LABEL, \"shufflenet\")\n",
    "\n",
    "aggregate(\"CNN\", cnn)\n",
    "aggregate(\"EfficientNet\", efficientnet)\n",
    "aggregate(\"MobileNet\", mobilenet)\n",
    "aggregate(\"ShuffleNet\", shufflenet)"
   ]
  },
  {
   "cell_type": "markdown",
   "id": "c0659d96",
   "metadata": {},
   "source": [
    "## Run 4: Cross Validation — RoI with Both Weighted\n",
    "Measure performance with both RoI and Both Weighted."
   ]
  },
  {
   "cell_type": "code",
   "execution_count": 17,
   "id": "7d578944",
   "metadata": {},
   "outputs": [],
   "source": [
    "LABEL = \"cross_val_roi_weighted_both\""
   ]
  },
  {
   "cell_type": "code",
   "execution_count": 18,
   "id": "5e453859",
   "metadata": {},
   "outputs": [
    {
     "name": "stdout",
     "output_type": "stream",
     "text": [
      "CNN\n",
      "               mean       std\n",
      "f1_score   0.343524  0.040856\n",
      "accuracy   0.355862  0.262496\n",
      "precision  0.295788  0.252044\n",
      "recall     0.860000  0.267499\n",
      "val_loss   1.142902  0.067224\n",
      "\n",
      "EfficientNet\n",
      "               mean       std\n",
      "f1_score   0.469823  0.110394\n",
      "accuracy   0.586667  0.162676\n",
      "precision  0.329264  0.114280\n",
      "recall     0.913333  0.120902\n",
      "val_loss   1.043890  0.048366\n",
      "\n",
      "MobileNet\n",
      "               mean       std\n",
      "f1_score   0.315966  0.052420\n",
      "accuracy   0.412299  0.299224\n",
      "precision  0.329195  0.270626\n",
      "recall     0.713333  0.374561\n",
      "val_loss   1.133842  0.043554\n",
      "\n",
      "ShuffleNet\n",
      "               mean       std\n",
      "f1_score   0.531203  0.093005\n",
      "accuracy   0.701724  0.139033\n",
      "precision  0.460556  0.236830\n",
      "recall     0.830000  0.198420\n",
      "val_loss   1.014458  0.064004\n",
      "\n"
     ]
    }
   ],
   "source": [
    "cnn = parse_fold_information(LABEL, \"cnn\")\n",
    "efficientnet = parse_fold_information(LABEL, \"efficientnet\")\n",
    "mobilenet = parse_fold_information(LABEL, \"mobilenet\")\n",
    "shufflenet = parse_fold_information(LABEL, \"shufflenet\")\n",
    "\n",
    "aggregate(\"CNN\", cnn)\n",
    "aggregate(\"EfficientNet\", efficientnet)\n",
    "aggregate(\"MobileNet\", mobilenet)\n",
    "aggregate(\"ShuffleNet\", shufflenet)"
   ]
  }
 ],
 "metadata": {
  "kernelspec": {
   "display_name": "diss",
   "language": "python",
   "name": "python3"
  },
  "language_info": {
   "codemirror_mode": {
    "name": "ipython",
    "version": 3
   },
   "file_extension": ".py",
   "mimetype": "text/x-python",
   "name": "python",
   "nbconvert_exporter": "python",
   "pygments_lexer": "ipython3",
   "version": "3.12.9"
  }
 },
 "nbformat": 4,
 "nbformat_minor": 5
}
