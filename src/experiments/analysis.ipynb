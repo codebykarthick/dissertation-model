{
 "cells": [
  {
   "cell_type": "markdown",
   "id": "7d7cc03f",
   "metadata": {},
   "source": [
    "# Analysis\n",
    "This notebook consists of all the analysis performed on the resulting json files generated during evaluation, to understand the best course of action."
   ]
  },
  {
   "cell_type": "markdown",
   "id": "7b1f539a",
   "metadata": {},
   "source": [
    "## Run 1: Cross-Validation — Classification on Data without any modifications\n",
    "MobileNetV3, EfficientNet-B0, ShuffleNet and custom CNNs where run directly on the data without any other additional mechanisms to compare raw performance on a 10-fold cross validation."
   ]
  },
  {
   "cell_type": "code",
   "execution_count": 1,
   "id": "43dc3ce9",
   "metadata": {},
   "outputs": [],
   "source": [
    "# Import section\n",
    "from collections import defaultdict\n",
    "import json\n",
    "import os\n",
    "\n",
    "\n",
    "import pandas as pd"
   ]
  },
  {
   "cell_type": "code",
   "execution_count": 2,
   "id": "73c2137e",
   "metadata": {},
   "outputs": [],
   "source": [
    "# Global Constants\n",
    "PATH_TO_RESULTS = \"../results\""
   ]
  },
  {
   "cell_type": "code",
   "execution_count": 3,
   "id": "b521d314",
   "metadata": {},
   "outputs": [],
   "source": [
    "# Local Constants\n",
    "LABEL = \"cross_val_baseline\""
   ]
  },
  {
   "cell_type": "code",
   "execution_count": 7,
   "id": "b4300318",
   "metadata": {},
   "outputs": [],
   "source": [
    "def parse_fold_information(label: str, model_name: str) -> pd.DataFrame:\n",
    "    # Get the full folder for the label\n",
    "    folder = os.path.join(PATH_TO_RESULTS, label)\n",
    "    # Filter files with the model name\n",
    "    files = [file for file in os.listdir(folder) if model_name in file]\n",
    "\n",
    "    metrics = defaultdict(list)\n",
    "\n",
    "    for file in files:\n",
    "        full_path = os.path.join(folder, file)\n",
    "        with open(full_path, 'r') as f:\n",
    "            data = json.load(f)\n",
    "            for key, value in data.items():\n",
    "                metrics[key].append(value)\n",
    "    \n",
    "    df = pd.DataFrame(metrics)\n",
    "\n",
    "    return df\n",
    "\n",
    "def aggregate(model: str, df: pd.DataFrame, \n",
    "              metrics: list[str] = [\"f1_score\", \"accuracy\", \"precision\", \"recall\", \"val_loss\"]):\n",
    "    print(model)\n",
    "    summary = df[metrics].agg(['mean', 'std']).transpose()\n",
    "    print(summary)\n",
    "    print(\"\")"
   ]
  },
  {
   "cell_type": "code",
   "execution_count": 8,
   "id": "93eaa9c2",
   "metadata": {},
   "outputs": [],
   "source": [
    "cnn = parse_fold_information(LABEL, \"cnn\")\n",
    "efficientnet = parse_fold_information(LABEL, \"efficientnet\")\n",
    "mobilenet = parse_fold_information(LABEL, \"mobilenet\")\n",
    "shufflenet = parse_fold_information(LABEL, \"shufflenet\")"
   ]
  },
  {
   "cell_type": "code",
   "execution_count": 9,
   "id": "e989f43e",
   "metadata": {},
   "outputs": [
    {
     "name": "stdout",
     "output_type": "stream",
     "text": [
      "CNN\n",
      "               mean       std\n",
      "f1_score   0.350607  0.110428\n",
      "accuracy   0.631992  0.346281\n",
      "precision  0.728736  0.420331\n",
      "recall     0.488889  0.405335\n",
      "val_loss   0.585913  0.122876\n",
      "\n",
      "EfficientNet\n",
      "               mean       std\n",
      "f1_score   0.448056  0.141801\n",
      "accuracy   0.816897  0.060296\n",
      "precision  0.554762  0.190493\n",
      "recall     0.400000  0.146566\n",
      "val_loss   0.589600  0.063503\n",
      "\n",
      "MobileNet\n",
      "               mean       std\n",
      "f1_score   0.411905  0.144634\n",
      "accuracy   0.651494  0.228059\n",
      "precision  0.412870  0.258729\n",
      "recall     0.600000  0.293131\n",
      "val_loss   0.656975  0.072953\n",
      "\n",
      "ShuffleNet\n",
      "               mean       std\n",
      "f1_score   0.464249  0.180339\n",
      "accuracy   0.757241  0.213533\n",
      "precision  0.594048  0.277295\n",
      "recall     0.526667  0.295564\n",
      "val_loss   0.559961  0.101052\n",
      "\n"
     ]
    }
   ],
   "source": [
    "aggregate(\"CNN\", cnn)\n",
    "aggregate(\"EfficientNet\", efficientnet)\n",
    "aggregate(\"MobileNet\", mobilenet)\n",
    "aggregate(\"ShuffleNet\", shufflenet)"
   ]
  },
  {
   "cell_type": "markdown",
   "id": "c0c8dafb",
   "metadata": {},
   "source": [
    "## Run 2: Cross-Validation — Classification with RoI cropping\n",
    "See if yolo has a positive impact on the classification pipeline."
   ]
  },
  {
   "cell_type": "code",
   "execution_count": 10,
   "id": "c70dbf07",
   "metadata": {},
   "outputs": [],
   "source": [
    "LABEL = \"cross_val_roi\""
   ]
  },
  {
   "cell_type": "code",
   "execution_count": 11,
   "id": "9d423a04",
   "metadata": {},
   "outputs": [
    {
     "name": "stdout",
     "output_type": "stream",
     "text": [
      "CNN\n",
      "               mean  std\n",
      "f1_score   0.294118  NaN\n",
      "accuracy   0.172414  NaN\n",
      "precision  0.172414  NaN\n",
      "recall     1.000000  NaN\n",
      "val_loss   0.700016  NaN\n",
      "\n",
      "EfficientNet\n",
      "               mean       std\n",
      "f1_score   0.651601  0.148388\n",
      "accuracy   0.843678  0.084310\n",
      "precision  0.632540  0.224098\n",
      "recall     0.743333  0.165589\n",
      "val_loss   0.549634  0.070147\n",
      "\n",
      "MobileNet\n",
      "               mean       std\n",
      "f1_score   0.374935  0.080807\n",
      "accuracy   0.439540  0.269357\n",
      "precision  0.296049  0.167190\n",
      "recall     0.816667  0.241523\n",
      "val_loss   0.720502  0.078087\n",
      "\n",
      "ShuffleNet\n",
      "               mean       std\n",
      "f1_score   0.737510  0.137215\n",
      "accuracy   0.908161  0.042248\n",
      "precision  0.777857  0.120593\n",
      "recall     0.730000  0.201507\n",
      "val_loss   0.461056  0.079855\n",
      "\n"
     ]
    }
   ],
   "source": [
    "cnn = parse_fold_information(LABEL, \"cnn\")\n",
    "efficientnet = parse_fold_information(LABEL, \"efficientnet\")\n",
    "mobilenet = parse_fold_information(LABEL, \"mobilenet\")\n",
    "shufflenet = parse_fold_information(LABEL, \"shufflenet\")\n",
    "\n",
    "aggregate(\"CNN\", cnn)\n",
    "aggregate(\"EfficientNet\", efficientnet)\n",
    "aggregate(\"MobileNet\", mobilenet)\n",
    "aggregate(\"ShuffleNet\", shufflenet)"
   ]
  },
  {
   "cell_type": "markdown",
   "id": "1b38a60f",
   "metadata": {},
   "source": [
    "## Run 3: Cross-Validation — Classification with Weighted Loss\n",
    "Measure performance with weighted loss for class imbalanace."
   ]
  },
  {
   "cell_type": "code",
   "execution_count": 12,
   "id": "631b0a1c",
   "metadata": {},
   "outputs": [],
   "source": [
    "LABEL = \"cross_val_weighted_loss\""
   ]
  },
  {
   "cell_type": "code",
   "execution_count": 13,
   "id": "75c5d250",
   "metadata": {},
   "outputs": [
    {
     "name": "stdout",
     "output_type": "stream",
     "text": [
      "CNN\n",
      "               mean       std\n",
      "f1_score   0.462992  0.099990\n",
      "accuracy   0.657126  0.212032\n",
      "precision  0.432003  0.248748\n",
      "recall     0.703333  0.238540\n",
      "val_loss   1.075794  0.068286\n",
      "\n",
      "EfficientNet\n",
      "               mean       std\n",
      "f1_score   0.487455  0.096765\n",
      "accuracy   0.721839  0.152611\n",
      "precision  0.430342  0.154859\n",
      "recall     0.663333  0.197171\n",
      "val_loss   1.066538  0.082926\n",
      "\n",
      "MobileNet\n",
      "               mean       std\n",
      "f1_score   0.461312  0.103430\n",
      "accuracy   0.732439  0.235579\n",
      "precision  0.620106  0.314040\n",
      "recall     0.544444  0.289636\n",
      "val_loss   1.091603  0.078136\n",
      "\n",
      "ShuffleNet\n",
      "               mean       std\n",
      "f1_score   0.510266  0.141518\n",
      "accuracy   0.765747  0.118086\n",
      "precision  0.509442  0.215651\n",
      "recall     0.646667  0.232113\n",
      "val_loss   1.043272  0.154763\n",
      "\n"
     ]
    }
   ],
   "source": [
    "cnn = parse_fold_information(LABEL, \"cnn\")\n",
    "efficientnet = parse_fold_information(LABEL, \"efficientnet\")\n",
    "mobilenet = parse_fold_information(LABEL, \"mobilenet\")\n",
    "shufflenet = parse_fold_information(LABEL, \"shufflenet\")\n",
    "\n",
    "aggregate(\"CNN\", cnn)\n",
    "aggregate(\"EfficientNet\", efficientnet)\n",
    "aggregate(\"MobileNet\", mobilenet)\n",
    "aggregate(\"ShuffleNet\", shufflenet)"
   ]
  },
  {
   "cell_type": "markdown",
   "id": "6e6a5bb7",
   "metadata": {},
   "source": [
    "## Run 3: Cross-Validation — Classification with Weighted Sampling\n",
    "Measure performance with weighted loss for class imbalanace."
   ]
  },
  {
   "cell_type": "code",
   "execution_count": 14,
   "id": "3803f32d",
   "metadata": {},
   "outputs": [],
   "source": [
    "LABEL = \"cross_val_weighted_sampling\""
   ]
  },
  {
   "cell_type": "code",
   "execution_count": 15,
   "id": "02034a82",
   "metadata": {},
   "outputs": [
    {
     "name": "stdout",
     "output_type": "stream",
     "text": [
      "CNN\n",
      "               mean       std\n",
      "f1_score   0.446405  0.106540\n",
      "accuracy   0.677816  0.231912\n",
      "precision  0.549647  0.339490\n",
      "recall     0.636667  0.316013\n",
      "val_loss   0.637801  0.092370\n",
      "\n",
      "EfficientNet\n",
      "               mean       std\n",
      "f1_score   0.515690  0.157791\n",
      "accuracy   0.686207  0.264929\n",
      "precision  0.524495  0.304652\n",
      "recall     0.680000  0.229976\n",
      "val_loss   0.586249  0.115771\n",
      "\n",
      "MobileNet\n",
      "               mean       std\n",
      "f1_score   0.444442  0.094051\n",
      "accuracy   0.651293  0.241098\n",
      "precision  0.470064  0.274576\n",
      "recall     0.654167  0.278281\n",
      "val_loss   0.626075  0.097975\n",
      "\n",
      "ShuffleNet\n",
      "               mean       std\n",
      "f1_score   0.500285  0.236599\n",
      "accuracy   0.755517  0.233117\n",
      "precision  0.545337  0.254444\n",
      "recall     0.580000  0.307599\n",
      "val_loss   0.589680  0.083645\n",
      "\n"
     ]
    }
   ],
   "source": [
    "cnn = parse_fold_information(LABEL, \"cnn\")\n",
    "efficientnet = parse_fold_information(LABEL, \"efficientnet\")\n",
    "mobilenet = parse_fold_information(LABEL, \"mobilenet\")\n",
    "shufflenet = parse_fold_information(LABEL, \"shufflenet\")\n",
    "\n",
    "aggregate(\"CNN\", cnn)\n",
    "aggregate(\"EfficientNet\", efficientnet)\n",
    "aggregate(\"MobileNet\", mobilenet)\n",
    "aggregate(\"ShuffleNet\", shufflenet)"
   ]
  }
 ],
 "metadata": {
  "kernelspec": {
   "display_name": "diss",
   "language": "python",
   "name": "python3"
  },
  "language_info": {
   "codemirror_mode": {
    "name": "ipython",
    "version": 3
   },
   "file_extension": ".py",
   "mimetype": "text/x-python",
   "name": "python",
   "nbconvert_exporter": "python",
   "pygments_lexer": "ipython3",
   "version": "3.12.9"
  }
 },
 "nbformat": 4,
 "nbformat_minor": 5
}
