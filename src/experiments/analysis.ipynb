{
 "cells": [
  {
   "cell_type": "markdown",
   "id": "7d7cc03f",
   "metadata": {},
   "source": [
    "# Analysis\n",
    "This notebook consists of all the analysis performed on the resulting json files generated during evaluation, to understand the best course of action."
   ]
  },
  {
   "cell_type": "markdown",
   "id": "7b1f539a",
   "metadata": {},
   "source": [
    "## Run 1: Cross-Validation — Classification on Data without any modifications\n",
    "MobileNetV3, EfficientNet-B0, ShuffleNet and custom CNNs where run directly on the data without any other additional mechanisms to compare raw performance on a 10-fold cross validation."
   ]
  },
  {
   "cell_type": "code",
   "execution_count": 5,
   "id": "43dc3ce9",
   "metadata": {},
   "outputs": [],
   "source": [
    "# Import section\n",
    "from collections import defaultdict\n",
    "import json\n",
    "import os\n",
    "\n",
    "\n",
    "import pandas as pd"
   ]
  },
  {
   "cell_type": "code",
   "execution_count": null,
   "id": "73c2137e",
   "metadata": {},
   "outputs": [],
   "source": [
    "# Global Constants\n",
    "PATH_TO_RESULTS = \"../results\""
   ]
  },
  {
   "cell_type": "code",
   "execution_count": 7,
   "id": "b521d314",
   "metadata": {},
   "outputs": [],
   "source": [
    "# Local Constants\n",
    "LABEL = \"cross_val_no_weighting\""
   ]
  },
  {
   "cell_type": "code",
   "execution_count": 30,
   "id": "b4300318",
   "metadata": {},
   "outputs": [],
   "source": [
    "def parse_fold_information(label: str, model_name: str) -> pd.DataFrame:\n",
    "    # Get the full folder for the label\n",
    "    folder = os.path.join(PATH_TO_RESULTS, label)\n",
    "    # Filter files with the model name\n",
    "    files = [file for file in os.listdir(folder) if model_name in file]\n",
    "\n",
    "    metrics = defaultdict(list)\n",
    "\n",
    "    for file in files:\n",
    "        full_path = os.path.join(folder, file)\n",
    "        with open(full_path, 'r') as f:\n",
    "            data = json.load(f)\n",
    "            for key, value in data.items():\n",
    "                metrics[key].append(value)\n",
    "    \n",
    "    df = pd.DataFrame(metrics)\n",
    "\n",
    "    return df\n",
    "\n",
    "def aggregate(model: str, df: pd.DataFrame, \n",
    "              metrics: list[str] = [\"f1_score\", \"accuracy\", \"precision\", \"recall\", \"val_loss\"]):\n",
    "    print(model)\n",
    "    summary = df[[\"f1_score\", \"accuracy\", \"precision\", \"recall\", \"val_loss\"]].agg(\n",
    "        ['mean', 'std']).transpose()\n",
    "    print(summary)\n",
    "    print(\"\")"
   ]
  },
  {
   "cell_type": "code",
   "execution_count": 19,
   "id": "93eaa9c2",
   "metadata": {},
   "outputs": [],
   "source": [
    "cnn = parse_fold_information(LABEL, \"cnn\")\n",
    "efficientnet = parse_fold_information(LABEL, \"efficientnet\")\n",
    "mobilenet = parse_fold_information(LABEL, \"mobilenet\")\n",
    "shufflenet = parse_fold_information(LABEL, \"shufflenet\")"
   ]
  },
  {
   "cell_type": "code",
   "execution_count": 31,
   "id": "e989f43e",
   "metadata": {},
   "outputs": [
    {
     "name": "stdout",
     "output_type": "stream",
     "text": [
      "CNN\n",
      "               mean       std\n",
      "f1_score   0.314521  0.025359\n",
      "accuracy   0.286667  0.214918\n",
      "precision  0.269080  0.257276\n",
      "recall     0.866667  0.261052\n",
      "val_loss   0.717242  0.054002\n",
      "\n",
      "EfficientNet\n",
      "               mean       std\n",
      "f1_score   0.563315  0.157316\n",
      "accuracy   0.827011  0.082669\n",
      "precision  0.642554  0.232485\n",
      "recall     0.606667  0.231367\n",
      "val_loss   0.573706  0.065731\n",
      "\n",
      "MobileNet\n",
      "               mean       std\n",
      "f1_score   0.430105  0.103001\n",
      "accuracy   0.631162  0.225209\n",
      "precision  0.417911  0.245957\n",
      "recall     0.700000  0.324037\n",
      "val_loss   0.663719  0.070578\n",
      "\n",
      "ShuffleNet\n",
      "               mean       std\n",
      "f1_score   0.494486  0.162359\n",
      "accuracy   0.756322  0.217654\n",
      "precision  0.628571  0.294272\n",
      "recall     0.560000  0.254733\n",
      "val_loss   0.608302  0.067740\n",
      "\n"
     ]
    }
   ],
   "source": [
    "aggregate(\"CNN\", cnn)\n",
    "aggregate(\"EfficientNet\", efficientnet)\n",
    "aggregate(\"MobileNet\", mobilenet)\n",
    "aggregate(\"ShuffleNet\", shufflenet)"
   ]
  }
 ],
 "metadata": {
  "kernelspec": {
   "display_name": "diss",
   "language": "python",
   "name": "python3"
  },
  "language_info": {
   "codemirror_mode": {
    "name": "ipython",
    "version": 3
   },
   "file_extension": ".py",
   "mimetype": "text/x-python",
   "name": "python",
   "nbconvert_exporter": "python",
   "pygments_lexer": "ipython3",
   "version": "3.12.9"
  }
 },
 "nbformat": 4,
 "nbformat_minor": 5
}
