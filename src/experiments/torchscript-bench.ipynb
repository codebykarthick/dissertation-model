{
 "cells": [
  {
   "cell_type": "markdown",
   "id": "bf7da884",
   "metadata": {},
   "source": [
    "# TorchScript Bench\n",
    "Notebook to export models and yolo to TorchScript format to run as expected."
   ]
  },
  {
   "cell_type": "code",
   "execution_count": 1,
   "id": "11d0eeb3",
   "metadata": {},
   "outputs": [],
   "source": [
    "import sys\n",
    "import os\n",
    "\n",
    "sys.path.append(os.path.abspath(os.path.join(os.getcwd(), '..')))"
   ]
  },
  {
   "cell_type": "code",
   "execution_count": 3,
   "id": "561a6a6f",
   "metadata": {},
   "outputs": [],
   "source": [
    "PATH_TO_MODEL = os.path.join(os.getcwd(), \"..\", \"weights\", \"yolo\", \"train\", \"weights\", \"best.pt\")\n",
    "PATH_TO_SCRIPT = os.path.join(\n",
    "    os.getcwd(), \"..\", \"weights\", \"yolo\", \"train\", \"weights\", \"best.torchscript\")\n",
    "PATH_TO_IMG = os.path.join(os.getcwd(), \"..\", \"dataset\", \"Images\")"
   ]
  },
  {
   "cell_type": "code",
   "execution_count": null,
   "id": "5e2b0105",
   "metadata": {},
   "outputs": [],
   "source": [
    "# Imports for the next section\n",
    "from ultralytics import YOLO"
   ]
  },
  {
   "cell_type": "markdown",
   "id": "220102fa",
   "metadata": {},
   "source": [
    "## YOLO Model Conversion\n",
    "Load the best fine-tuned yolo model and convert it to Torchscript."
   ]
  },
  {
   "cell_type": "code",
   "execution_count": null,
   "id": "dfae69d3",
   "metadata": {},
   "outputs": [],
   "source": [
    "yolo_model = YOLO(PATH_TO_MODEL)"
   ]
  }
 ],
 "metadata": {
  "kernelspec": {
   "display_name": "diss",
   "language": "python",
   "name": "python3"
  },
  "language_info": {
   "codemirror_mode": {
    "name": "ipython",
    "version": 3
   },
   "file_extension": ".py",
   "mimetype": "text/x-python",
   "name": "python",
   "nbconvert_exporter": "python",
   "pygments_lexer": "ipython3",
   "version": "3.12.9"
  }
 },
 "nbformat": 4,
 "nbformat_minor": 5
}
