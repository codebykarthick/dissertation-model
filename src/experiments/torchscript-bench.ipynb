{
 "cells": [
  {
   "cell_type": "markdown",
   "id": "bf7da884",
   "metadata": {},
   "source": [
    "# TorchScript Bench\n",
    "Notebook to export models and yolo to TorchScript format to run as expected."
   ]
  },
  {
   "cell_type": "code",
   "execution_count": 1,
   "id": "11d0eeb3",
   "metadata": {},
   "outputs": [],
   "source": [
    "import sys\n",
    "import os\n",
    "\n",
    "sys.path.append(os.path.abspath(os.path.join(os.getcwd(), '..')))"
   ]
  },
  {
   "cell_type": "code",
   "execution_count": 2,
   "id": "561a6a6f",
   "metadata": {},
   "outputs": [],
   "source": [
    "PATH_TO_Y_MODEL = os.path.join(os.getcwd(), \"..\", \"weights\", \"yolo\", \"train\", \"weights\", \"best.pt\")\n",
    "PATH_TO_Y_SCRIPT = os.path.join(\n",
    "    os.getcwd(), \"..\", \"weights\", \"yolo\", \"train\", \"weights\", \"best.torchscript\")\n",
    "PATH_TO_M_MODEL = os.path.join(\n",
    "    os.getcwd(), \"..\", \"weights\", \"mobile\")\n",
    "FILE_NAME_ROI_MODEL = \"mobile_crop.pt\"\n",
    "FILE_NAME_DEC_E_MODEL = \"mobile_efficientnet.pt\"\n",
    "FILE_NAME_DEC_S_MODEL = \"mobile_shufflenet.pt\"\n",
    "EFF_FILE_PATH = os.path.join(\n",
    "    os.getcwd(), \"..\", \"weights\", \"efficientnet_roi_weighted_sampling\", \n",
    "    \"efficientnet\", \"efficientnet_fold1_2025-06-16_15-05-49.pth\")\n",
    "SHU_FILE_PATH = os.path.join(\n",
    "    os.getcwd(), \"..\", \"weights\", \"shufflenet_roi_weighted_sampling\",\n",
    "    \"shufflenet\", \"shufflenet_fold1_2025-06-16_15-09-39.pth\")\n",
    "PATH_TO_IMG = os.path.join(os.getcwd(), \"..\", \"dataset\", \"Images\")"
   ]
  },
  {
   "cell_type": "markdown",
   "id": "220102fa",
   "metadata": {},
   "source": [
    "## YOLO Model Conversion\n",
    "Load the best fine-tuned yolo model and convert it to Torchscript."
   ]
  },
  {
   "cell_type": "code",
   "execution_count": null,
   "id": "5e2b0105",
   "metadata": {},
   "outputs": [],
   "source": [
    "# Imports for the next section\n",
    "from ultralytics import YOLO\n",
    "import torch\n",
    "from torch.utils.mobile_optimizer import optimize_for_mobile\n",
    "\n",
    "from models.export.mobile_model import MobileRoICropModel\n",
    "from experiments.util import (\n",
    "    get_random_image, \n",
    "    show_pil_image, \n",
    "    get_yolo_transform,\n",
    "    display_tensor_as_image,\n",
    "    optimize_and_save\n",
    ")"
   ]
  },
  {
   "cell_type": "code",
   "execution_count": null,
   "id": "dfae69d3",
   "metadata": {},
   "outputs": [],
   "source": [
    "# Loading our best model\n",
    "yolo_model = YOLO(PATH_TO_Y_MODEL)\n",
    "\n",
    "# Export it as torchscript version\n",
    "yolo_model.export(format=\"torchscript\", optimize=True, nms=True, batch=1, device=\"cpu\", mode=\"export\")"
   ]
  },
  {
   "cell_type": "code",
   "execution_count": null,
   "id": "996c9747",
   "metadata": {},
   "outputs": [],
   "source": [
    "# Load back the torchscript version and optimise for mobile devices\n",
    "scripted_yolo_model = torch.jit.load(PATH_TO_Y_SCRIPT).eval()\n",
    "scripted_yolo_model = torch.jit.freeze(scripted_yolo_model)\n",
    "scripted_yolo_model = optimize_for_mobile(scripted_yolo_model)"
   ]
  },
  {
   "cell_type": "code",
   "execution_count": null,
   "id": "18a2372d",
   "metadata": {},
   "outputs": [],
   "source": [
    "# Load the freezed and optimised model into our wrapper model\n",
    "mobile_roi_crop_model = MobileRoICropModel(scripted_yolo_model)"
   ]
  },
  {
   "cell_type": "markdown",
   "id": "2e693889",
   "metadata": {},
   "source": [
    "### Test Wrapper Model\n",
    "Load an image, with its path and test if it produces the intended result."
   ]
  },
  {
   "cell_type": "code",
   "execution_count": null,
   "id": "81f5aeda",
   "metadata": {},
   "outputs": [],
   "source": [
    "# Load a random image and display the whole image for sanity\n",
    "img_path, img = get_random_image()\n",
    "show_pil_image(img)"
   ]
  },
  {
   "cell_type": "code",
   "execution_count": null,
   "id": "bb7d0c17",
   "metadata": {},
   "outputs": [],
   "source": [
    "# Get transforms, apply and feed it to the model\n",
    "t = get_yolo_transform()\n",
    "tensor = t(img)\n",
    "tensor = tensor.unsqueeze(0)\n",
    "print(tensor.shape)\n",
    "cropped = mobile_roi_crop_model(tensor)"
   ]
  },
  {
   "cell_type": "code",
   "execution_count": null,
   "id": "76146adf",
   "metadata": {},
   "outputs": [],
   "source": [
    "# Display the cropped tensor\n",
    "display_tensor_as_image(cropped)"
   ]
  },
  {
   "cell_type": "markdown",
   "id": "87c3dd10",
   "metadata": {},
   "source": [
    "### Save the cropping model as torchscript"
   ]
  },
  {
   "cell_type": "code",
   "execution_count": null,
   "id": "a88956f8",
   "metadata": {},
   "outputs": [],
   "source": [
    "# Create the path\n",
    "full_path = os.path.join(PATH_TO_M_MODEL, FILE_NAME_ROI_MODEL)\n",
    "print(f\"Saving crop model at: {full_path}\")\n",
    "optimize_and_save(mobile_roi_crop_model, full_path, True, True)"
   ]
  },
  {
   "cell_type": "markdown",
   "id": "e2407b03",
   "metadata": {},
   "source": [
    "## Creating EfficientNet Mobile Model"
   ]
  },
  {
   "cell_type": "code",
   "execution_count": 125,
   "id": "fdc668ea",
   "metadata": {},
   "outputs": [],
   "source": [
    "# Imports needed\n",
    "import torch\n",
    "from models.export.mobile_model import MobileDecisionModel\n",
    "from models.classification.pretrained_models import get_efficientnet_tuned\n",
    "from experiments.util import (\n",
    "    resize_and_tensor, \n",
    "    optimize_and_save,\n",
    "    get_random_image,\n",
    "    display_tensor_as_image,\n",
    "    get_yolo_transform\n",
    ")"
   ]
  },
  {
   "cell_type": "code",
   "execution_count": 126,
   "id": "46025ea9",
   "metadata": {},
   "outputs": [],
   "source": [
    "PATH_TO_CROP_MODEL = os.path.join(PATH_TO_M_MODEL, FILE_NAME_ROI_MODEL)\n",
    "full_path = os.path.join(PATH_TO_M_MODEL, FILE_NAME_DEC_E_MODEL)"
   ]
  },
  {
   "cell_type": "code",
   "execution_count": 127,
   "id": "976d5d81",
   "metadata": {},
   "outputs": [
    {
     "name": "stdout",
     "output_type": "stream",
     "text": [
      "Saved model at: /Users/sriharikarthickn/Developer/Projects/dissertation-model/src/experiments/../weights/mobile/mobile_efficientnet.pt\n"
     ]
    }
   ],
   "source": [
    "# Load the ROI model for testing\n",
    "mobile_roi_model = torch.jit.load(PATH_TO_CROP_MODEL)\n",
    "t = get_yolo_transform()\n",
    "\n",
    "# Load the decision model\n",
    "decision_model = get_efficientnet_tuned()\n",
    "decision_model.load_state_dict(torch.load(EFF_FILE_PATH, map_location=\"cpu\"))\n",
    "mobile_dec_model = MobileDecisionModel(decision_model, 10)\n",
    "\n",
    "print(f\"Saved model at: {full_path}\")\n",
    "mobile_dec_model = optimize_and_save(mobile_dec_model, full_path, True, True)"
   ]
  },
  {
   "cell_type": "code",
   "execution_count": 136,
   "id": "6a24c3f7",
   "metadata": {},
   "outputs": [
    {
     "name": "stdout",
     "output_type": "stream",
     "text": [
      "torch.Size([1, 3, 224, 224])\n"
     ]
    },
    {
     "data": {
      "image/png": "[encoded data removed]",
      "text/plain": [
       "<Figure size 400x400 with 1 Axes>"
      ]
     },
     "metadata": {},
     "output_type": "display_data"
    },
    {
     "name": "stdout",
     "output_type": "stream",
     "text": [
      "(tensor([0.6573]), tensor([0.]))\n"
     ]
    }
   ],
   "source": [
    "img_path, img = get_random_image()\n",
    "tensor = t(img)\n",
    "tensor = tensor.unsqueeze(0)\n",
    "cropped = mobile_roi_model(tensor)\n",
    "tensor = resize_and_tensor(cropped)\n",
    "print(tensor.shape)\n",
    "display_tensor_as_image(tensor)\n",
    "# Run the model on the new tensor\n",
    "res = mobile_dec_model(tensor)\n",
    "print(res)"
   ]
  },
  {
   "cell_type": "markdown",
   "id": "2fd0558d",
   "metadata": {},
   "source": [
    "## Creating ShuffleNet Mobile Model"
   ]
  },
  {
   "cell_type": "code",
   "execution_count": 54,
   "id": "63421fb4",
   "metadata": {},
   "outputs": [],
   "source": [
    "# Imports needed\n",
    "import torch\n",
    "from models.export.mobile_model import MobileDecisionModel\n",
    "from models.classification.pretrained_models import get_shufflenet_tuned\n",
    "from experiments.util import (\n",
    "    resize_and_tensor,\n",
    "    optimize_and_save,\n",
    "    get_random_image,\n",
    "    display_tensor_as_image,\n",
    "    get_yolo_transform\n",
    ")"
   ]
  },
  {
   "cell_type": "code",
   "execution_count": 55,
   "id": "1b3836f6",
   "metadata": {},
   "outputs": [],
   "source": [
    "PATH_TO_CROP_MODEL = os.path.join(PATH_TO_M_MODEL, FILE_NAME_ROI_MODEL)\n",
    "full_path = os.path.join(PATH_TO_M_MODEL, FILE_NAME_DEC_S_MODEL)"
   ]
  },
  {
   "cell_type": "code",
   "execution_count": 56,
   "id": "33bf7b9c",
   "metadata": {},
   "outputs": [
    {
     "name": "stdout",
     "output_type": "stream",
     "text": [
      "Saved model at: /Users/sriharikarthickn/Developer/Projects/dissertation-model/src/experiments/../weights/mobile/mobile_shufflenet.pt\n"
     ]
    }
   ],
   "source": [
    "# Load the ROI model for testing\n",
    "mobile_roi_model = torch.jit.load(PATH_TO_CROP_MODEL)\n",
    "t = get_yolo_transform()\n",
    "\n",
    "# Load the decision model\n",
    "decision_model = get_shufflenet_tuned()\n",
    "decision_model.load_state_dict(torch.load(SHU_FILE_PATH, map_location=\"cpu\"))\n",
    "mobile_dec_model = MobileDecisionModel(decision_model, 10)\n",
    "print(f\"Saved model at: {full_path}\")\n",
    "mobile_dec_model = optimize_and_save(mobile_dec_model, full_path, True, True)"
   ]
  },
  {
   "cell_type": "code",
   "execution_count": 123,
   "id": "46e07b31",
   "metadata": {},
   "outputs": [
    {
     "name": "stdout",
     "output_type": "stream",
     "text": [
      "torch.Size([1, 3, 224, 224])\n"
     ]
    },
    {
     "data": {
      "image/png": "[encoded data removed]",
      "text/plain": [
       "<Figure size 400x400 with 1 Axes>"
      ]
     },
     "metadata": {},
     "output_type": "display_data"
    },
    {
     "name": "stdout",
     "output_type": "stream",
     "text": [
      "(tensor([0.3849]), tensor([0.]))\n"
     ]
    }
   ],
   "source": [
    "img_path, img = get_random_image()\n",
    "tensor = t(img)\n",
    "tensor = tensor.unsqueeze(0)\n",
    "cropped = mobile_roi_model(tensor)\n",
    "tensor = resize_and_tensor(cropped)\n",
    "print(tensor.shape)\n",
    "display_tensor_as_image(tensor)\n",
    "# Run the model on the new tensor\n",
    "res = mobile_dec_model(tensor)\n",
    "print(res)"
   ]
  }
 ],
 "metadata": {
  "kernelspec": {
   "display_name": "diss",
   "language": "python",
   "name": "python3"
  },
  "language_info": {
   "codemirror_mode": {
    "name": "ipython",
    "version": 3
   },
   "file_extension": ".py",
   "mimetype": "text/x-python",
   "name": "python",
   "nbconvert_exporter": "python",
   "pygments_lexer": "ipython3",
   "version": "3.12.9"
  }
 },
 "nbformat": 4,
 "nbformat_minor": 5
}
